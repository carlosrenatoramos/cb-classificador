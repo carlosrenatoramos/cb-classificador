{
  "nbformat": 4,
  "nbformat_minor": 0,
  "metadata": {
    "colab": {
      "provenance": []
    },
    "kernelspec": {
      "name": "python3",
      "display_name": "Python 3"
    },
    "language_info": {
      "name": "python"
    }
  },
  "cells": [
    {
      "cell_type": "markdown",
      "source": [
        "# **Colab**"
      ],
      "metadata": {
        "id": "wc3eTjQE0H-b"
      }
    },
    {
      "cell_type": "code",
      "source": [
        "# === 1. Montagem do Google Drive e definição dos caminhos ===\n",
        "from google.colab import drive\n",
        "drive.mount('/content/drive')\n",
        "arquivo_tratado = '/content/drive/My Drive/Colab/cb-classificador/data/dados_tratados.csv'\n",
        "arquivo_codificado = '/content/drive/My Drive/Colab/cb-classificador/data/dados_codificados.csv'\n",
        "arquivo_vocabulario = '/content/drive/My Drive/Colab/cb-classificador/data/dados_vocabulario.csv'\n",
        "arquivo_encoder = '/content/drive/My Drive/Colab/cb-classificador/data/onehot_encoder.pkl'\n",
        "arquivo_vectorizer = '/content/drive/My Drive/Colab/cb-classificador/data/tfidf_vectorizer.pkl'"
      ],
      "metadata": {
        "id": "BUVM46voKiJx",
        "colab": {
          "base_uri": "https://localhost:8080/"
        },
        "outputId": "73db9679-17e5-44e8-b214-a2e549600f97"
      },
      "execution_count": null,
      "outputs": [
        {
          "output_type": "stream",
          "name": "stdout",
          "text": [
            "Mounted at /content/drive\n"
          ]
        }
      ]
    },
    {
      "cell_type": "code",
      "source": [
        "# === 2. Instalação e importação de bibliotecas ===\n",
        "!pip install unidecode\n",
        "from unidecode import unidecode\n",
        "import pandas as pd\n",
        "import joblib\n",
        "from sklearn.preprocessing import OneHotEncoder\n",
        "from sklearn.feature_extraction.text import TfidfVectorizer"
      ],
      "metadata": {
        "id": "Z-WkxcCZrZJ0",
        "collapsed": true,
        "colab": {
          "base_uri": "https://localhost:8080/"
        },
        "outputId": "115078c6-2818-4bb4-f7ae-c176edfd9d88"
      },
      "execution_count": null,
      "outputs": [
        {
          "output_type": "stream",
          "name": "stdout",
          "text": [
            "Collecting unidecode\n",
            "  Downloading Unidecode-1.4.0-py3-none-any.whl.metadata (13 kB)\n",
            "Downloading Unidecode-1.4.0-py3-none-any.whl (235 kB)\n",
            "\u001b[2K   \u001b[90m━━━━━━━━━━━━━━━━━━━━━━━━━━━━━━━━━━━━━━━━\u001b[0m \u001b[32m235.8/235.8 kB\u001b[0m \u001b[31m4.6 MB/s\u001b[0m eta \u001b[36m0:00:00\u001b[0m\n",
            "\u001b[?25hInstalling collected packages: unidecode\n",
            "Successfully installed unidecode-1.4.0\n"
          ]
        }
      ]
    },
    {
      "cell_type": "code",
      "source": [
        "# === 3. Função para codificar variáveis categóricas ===\n",
        "def codificar_variaveis_categoricas(df, colunas_categoricas, caminho_encoder):\n",
        "    encoder = OneHotEncoder(handle_unknown='ignore')\n",
        "    X_categorico = encoder.fit_transform(df[colunas_categoricas])\n",
        "    joblib.dump(encoder, caminho_encoder) # Salvar o encoder para uso no protótipo\n",
        "    return X_categorico, encoder"
      ],
      "metadata": {
        "id": "SHqRWZBYo6nX"
      },
      "execution_count": null,
      "outputs": []
    },
    {
      "cell_type": "code",
      "source": [
        "# === 4. Função para vetorizar variável textual ===\n",
        "def vetorizar_texto(df, coluna_texto, caminho_vectorizer, caminho_vocabulario, min_df=10):\n",
        "    vectorizer = TfidfVectorizer(min_df=min_df)\n",
        "    X_texto = vectorizer.fit_transform(df[coluna_texto])\n",
        "    joblib.dump(vectorizer, caminho_vectorizer) # Salvar o vectorizer para uso no protótipo\n",
        "    df_vocab = pd.DataFrame(vectorizer.get_feature_names_out(), columns=['Termo'])\n",
        "    df_vocab.to_csv(caminho_vocabulario, index=False) # Salvar o vocabulário\n",
        "    return X_texto"
      ],
      "metadata": {
        "id": "MLgL37UkqBoi"
      },
      "execution_count": null,
      "outputs": []
    },
    {
      "cell_type": "code",
      "source": [
        "# === 5. Leitura dos dados ===\n",
        "df = pd.read_csv(arquivo_tratado)"
      ],
      "metadata": {
        "id": "uJ1iGfEfMu8T",
        "collapsed": true
      },
      "execution_count": null,
      "outputs": []
    },
    {
      "cell_type": "code",
      "source": [
        "# === 6. Verificação do balanceamento das classes da variável alvo ===\n",
        "total = df['categoria'].count()\n",
        "print(f\"Percentual CB: {df['categoria'].value_counts().get('CB', 0)/total*100:.2f}%\")\n",
        "print(f\"Percentual XX: {df['categoria'].value_counts().get('XX', 0)/total*100:.2f}%\")"
      ],
      "metadata": {
        "colab": {
          "base_uri": "https://localhost:8080/"
        },
        "id": "pKr5mBDc30oW",
        "outputId": "6dc7d983-b0a0-4451-cc8a-edeff840bd75"
      },
      "execution_count": null,
      "outputs": [
        {
          "output_type": "stream",
          "name": "stdout",
          "text": [
            "Percentual CB: 42.01%\n",
            "Percentual XX: 57.99%\n"
          ]
        }
      ]
    },
    {
      "cell_type": "code",
      "source": [
        "len(df)"
      ],
      "metadata": {
        "colab": {
          "base_uri": "https://localhost:8080/"
        },
        "id": "gCE2awQT6cIO",
        "outputId": "32e9fe8e-3c4f-4c71-9230-84ffde82c243"
      },
      "execution_count": null,
      "outputs": [
        {
          "output_type": "execute_result",
          "data": {
            "text/plain": [
              "1914"
            ]
          },
          "metadata": {},
          "execution_count": 7
        }
      ]
    },
    {
      "cell_type": "code",
      "source": [
        "df['categoria'].value_counts()"
      ],
      "metadata": {
        "colab": {
          "base_uri": "https://localhost:8080/",
          "height": 178
        },
        "id": "7ypoJuAqMxEH",
        "outputId": "ef4269f3-14f1-42f5-c4d4-d380ff166e86"
      },
      "execution_count": null,
      "outputs": [
        {
          "output_type": "execute_result",
          "data": {
            "text/plain": [
              "categoria\n",
              "XX    1110\n",
              "CB     804\n",
              "Name: count, dtype: int64"
            ],
            "text/html": [
              "<div>\n",
              "<style scoped>\n",
              "    .dataframe tbody tr th:only-of-type {\n",
              "        vertical-align: middle;\n",
              "    }\n",
              "\n",
              "    .dataframe tbody tr th {\n",
              "        vertical-align: top;\n",
              "    }\n",
              "\n",
              "    .dataframe thead th {\n",
              "        text-align: right;\n",
              "    }\n",
              "</style>\n",
              "<table border=\"1\" class=\"dataframe\">\n",
              "  <thead>\n",
              "    <tr style=\"text-align: right;\">\n",
              "      <th></th>\n",
              "      <th>count</th>\n",
              "    </tr>\n",
              "    <tr>\n",
              "      <th>categoria</th>\n",
              "      <th></th>\n",
              "    </tr>\n",
              "  </thead>\n",
              "  <tbody>\n",
              "    <tr>\n",
              "      <th>XX</th>\n",
              "      <td>1110</td>\n",
              "    </tr>\n",
              "    <tr>\n",
              "      <th>CB</th>\n",
              "      <td>804</td>\n",
              "    </tr>\n",
              "  </tbody>\n",
              "</table>\n",
              "</div><br><label><b>dtype:</b> int64</label>"
            ]
          },
          "metadata": {},
          "execution_count": 8
        }
      ]
    },
    {
      "cell_type": "code",
      "source": [
        "df['cod_ncm'].value_counts()"
      ],
      "metadata": {
        "colab": {
          "base_uri": "https://localhost:8080/",
          "height": 1000
        },
        "id": "hy1H26RPTyfV",
        "outputId": "5fc41be4-cf67-4546-8761-88a83dee0ff1",
        "collapsed": true
      },
      "execution_count": null,
      "outputs": [
        {
          "output_type": "execute_result",
          "data": {
            "text/plain": [
              "cod_ncm\n",
              "9           290\n",
              "27101932    259\n",
              "27101921    236\n",
              "27101259    220\n",
              "84212300    118\n",
              "84219999     87\n",
              "22011000     80\n",
              "31021010     74\n",
              "34029039     41\n",
              "0            41\n",
              "22071090     39\n",
              "38249941     38\n",
              "21069050     35\n",
              "84212990     31\n",
              "22021000     31\n",
              "34029090     30\n",
              "22029900     29\n",
              "84213990     24\n",
              "38190000     23\n",
              "21050010     18\n",
              "38111900     17\n",
              "17049020     16\n",
              "33074900     15\n",
              "19059090     15\n",
              "85129000     14\n",
              "18069000     13\n",
              "38119090     12\n",
              "19053200     11\n",
              "84213100     10\n",
              "38119010      8\n",
              "27101999      8\n",
              "87089990      8\n",
              "56012291      6\n",
              "38112120      6\n",
              "22072019      5\n",
              "34023990      5\n",
              "76169900      1\n",
              "Name: count, dtype: int64"
            ],
            "text/html": [
              "<div>\n",
              "<style scoped>\n",
              "    .dataframe tbody tr th:only-of-type {\n",
              "        vertical-align: middle;\n",
              "    }\n",
              "\n",
              "    .dataframe tbody tr th {\n",
              "        vertical-align: top;\n",
              "    }\n",
              "\n",
              "    .dataframe thead th {\n",
              "        text-align: right;\n",
              "    }\n",
              "</style>\n",
              "<table border=\"1\" class=\"dataframe\">\n",
              "  <thead>\n",
              "    <tr style=\"text-align: right;\">\n",
              "      <th></th>\n",
              "      <th>count</th>\n",
              "    </tr>\n",
              "    <tr>\n",
              "      <th>cod_ncm</th>\n",
              "      <th></th>\n",
              "    </tr>\n",
              "  </thead>\n",
              "  <tbody>\n",
              "    <tr>\n",
              "      <th>9</th>\n",
              "      <td>290</td>\n",
              "    </tr>\n",
              "    <tr>\n",
              "      <th>27101932</th>\n",
              "      <td>259</td>\n",
              "    </tr>\n",
              "    <tr>\n",
              "      <th>27101921</th>\n",
              "      <td>236</td>\n",
              "    </tr>\n",
              "    <tr>\n",
              "      <th>27101259</th>\n",
              "      <td>220</td>\n",
              "    </tr>\n",
              "    <tr>\n",
              "      <th>84212300</th>\n",
              "      <td>118</td>\n",
              "    </tr>\n",
              "    <tr>\n",
              "      <th>84219999</th>\n",
              "      <td>87</td>\n",
              "    </tr>\n",
              "    <tr>\n",
              "      <th>22011000</th>\n",
              "      <td>80</td>\n",
              "    </tr>\n",
              "    <tr>\n",
              "      <th>31021010</th>\n",
              "      <td>74</td>\n",
              "    </tr>\n",
              "    <tr>\n",
              "      <th>34029039</th>\n",
              "      <td>41</td>\n",
              "    </tr>\n",
              "    <tr>\n",
              "      <th>0</th>\n",
              "      <td>41</td>\n",
              "    </tr>\n",
              "    <tr>\n",
              "      <th>22071090</th>\n",
              "      <td>39</td>\n",
              "    </tr>\n",
              "    <tr>\n",
              "      <th>38249941</th>\n",
              "      <td>38</td>\n",
              "    </tr>\n",
              "    <tr>\n",
              "      <th>21069050</th>\n",
              "      <td>35</td>\n",
              "    </tr>\n",
              "    <tr>\n",
              "      <th>84212990</th>\n",
              "      <td>31</td>\n",
              "    </tr>\n",
              "    <tr>\n",
              "      <th>22021000</th>\n",
              "      <td>31</td>\n",
              "    </tr>\n",
              "    <tr>\n",
              "      <th>34029090</th>\n",
              "      <td>30</td>\n",
              "    </tr>\n",
              "    <tr>\n",
              "      <th>22029900</th>\n",
              "      <td>29</td>\n",
              "    </tr>\n",
              "    <tr>\n",
              "      <th>84213990</th>\n",
              "      <td>24</td>\n",
              "    </tr>\n",
              "    <tr>\n",
              "      <th>38190000</th>\n",
              "      <td>23</td>\n",
              "    </tr>\n",
              "    <tr>\n",
              "      <th>21050010</th>\n",
              "      <td>18</td>\n",
              "    </tr>\n",
              "    <tr>\n",
              "      <th>38111900</th>\n",
              "      <td>17</td>\n",
              "    </tr>\n",
              "    <tr>\n",
              "      <th>17049020</th>\n",
              "      <td>16</td>\n",
              "    </tr>\n",
              "    <tr>\n",
              "      <th>33074900</th>\n",
              "      <td>15</td>\n",
              "    </tr>\n",
              "    <tr>\n",
              "      <th>19059090</th>\n",
              "      <td>15</td>\n",
              "    </tr>\n",
              "    <tr>\n",
              "      <th>85129000</th>\n",
              "      <td>14</td>\n",
              "    </tr>\n",
              "    <tr>\n",
              "      <th>18069000</th>\n",
              "      <td>13</td>\n",
              "    </tr>\n",
              "    <tr>\n",
              "      <th>38119090</th>\n",
              "      <td>12</td>\n",
              "    </tr>\n",
              "    <tr>\n",
              "      <th>19053200</th>\n",
              "      <td>11</td>\n",
              "    </tr>\n",
              "    <tr>\n",
              "      <th>84213100</th>\n",
              "      <td>10</td>\n",
              "    </tr>\n",
              "    <tr>\n",
              "      <th>38119010</th>\n",
              "      <td>8</td>\n",
              "    </tr>\n",
              "    <tr>\n",
              "      <th>27101999</th>\n",
              "      <td>8</td>\n",
              "    </tr>\n",
              "    <tr>\n",
              "      <th>87089990</th>\n",
              "      <td>8</td>\n",
              "    </tr>\n",
              "    <tr>\n",
              "      <th>56012291</th>\n",
              "      <td>6</td>\n",
              "    </tr>\n",
              "    <tr>\n",
              "      <th>38112120</th>\n",
              "      <td>6</td>\n",
              "    </tr>\n",
              "    <tr>\n",
              "      <th>22072019</th>\n",
              "      <td>5</td>\n",
              "    </tr>\n",
              "    <tr>\n",
              "      <th>34023990</th>\n",
              "      <td>5</td>\n",
              "    </tr>\n",
              "    <tr>\n",
              "      <th>76169900</th>\n",
              "      <td>1</td>\n",
              "    </tr>\n",
              "  </tbody>\n",
              "</table>\n",
              "</div><br><label><b>dtype:</b> int64</label>"
            ]
          },
          "metadata": {},
          "execution_count": 13
        }
      ]
    },
    {
      "cell_type": "code",
      "source": [
        "df['cod_anp'].value_counts()"
      ],
      "metadata": {
        "colab": {
          "base_uri": "https://localhost:8080/",
          "height": 523
        },
        "id": "B9M-0tV0T2Tj",
        "outputId": "b87cfa7b-827f-4df1-aeb0-aa00b7f195d1",
        "collapsed": true
      },
      "execution_count": null,
      "outputs": [
        {
          "output_type": "execute_result",
          "data": {
            "text/plain": [
              "cod_anp\n",
              "0            1363\n",
              "820101034     106\n",
              "620505001      88\n",
              "320102001      76\n",
              "9              74\n",
              "320102002      74\n",
              "820101033      43\n",
              "810101001      32\n",
              "740101006      15\n",
              "620501001      14\n",
              "820101012      10\n",
              "740101003      10\n",
              "320101001       9\n",
              "Name: count, dtype: int64"
            ],
            "text/html": [
              "<div>\n",
              "<style scoped>\n",
              "    .dataframe tbody tr th:only-of-type {\n",
              "        vertical-align: middle;\n",
              "    }\n",
              "\n",
              "    .dataframe tbody tr th {\n",
              "        vertical-align: top;\n",
              "    }\n",
              "\n",
              "    .dataframe thead th {\n",
              "        text-align: right;\n",
              "    }\n",
              "</style>\n",
              "<table border=\"1\" class=\"dataframe\">\n",
              "  <thead>\n",
              "    <tr style=\"text-align: right;\">\n",
              "      <th></th>\n",
              "      <th>count</th>\n",
              "    </tr>\n",
              "    <tr>\n",
              "      <th>cod_anp</th>\n",
              "      <th></th>\n",
              "    </tr>\n",
              "  </thead>\n",
              "  <tbody>\n",
              "    <tr>\n",
              "      <th>0</th>\n",
              "      <td>1363</td>\n",
              "    </tr>\n",
              "    <tr>\n",
              "      <th>820101034</th>\n",
              "      <td>106</td>\n",
              "    </tr>\n",
              "    <tr>\n",
              "      <th>620505001</th>\n",
              "      <td>88</td>\n",
              "    </tr>\n",
              "    <tr>\n",
              "      <th>320102001</th>\n",
              "      <td>76</td>\n",
              "    </tr>\n",
              "    <tr>\n",
              "      <th>9</th>\n",
              "      <td>74</td>\n",
              "    </tr>\n",
              "    <tr>\n",
              "      <th>320102002</th>\n",
              "      <td>74</td>\n",
              "    </tr>\n",
              "    <tr>\n",
              "      <th>820101033</th>\n",
              "      <td>43</td>\n",
              "    </tr>\n",
              "    <tr>\n",
              "      <th>810101001</th>\n",
              "      <td>32</td>\n",
              "    </tr>\n",
              "    <tr>\n",
              "      <th>740101006</th>\n",
              "      <td>15</td>\n",
              "    </tr>\n",
              "    <tr>\n",
              "      <th>620501001</th>\n",
              "      <td>14</td>\n",
              "    </tr>\n",
              "    <tr>\n",
              "      <th>820101012</th>\n",
              "      <td>10</td>\n",
              "    </tr>\n",
              "    <tr>\n",
              "      <th>740101003</th>\n",
              "      <td>10</td>\n",
              "    </tr>\n",
              "    <tr>\n",
              "      <th>320101001</th>\n",
              "      <td>9</td>\n",
              "    </tr>\n",
              "  </tbody>\n",
              "</table>\n",
              "</div><br><label><b>dtype:</b> int64</label>"
            ]
          },
          "metadata": {},
          "execution_count": 14
        }
      ]
    },
    {
      "cell_type": "code",
      "source": [
        "df['cod_unidade'].value_counts()"
      ],
      "metadata": {
        "colab": {
          "base_uri": "https://localhost:8080/",
          "height": 335
        },
        "collapsed": true,
        "id": "r0VRHkcmxHyS",
        "outputId": "845dc186-d665-49e4-eea6-30ab4c906f6b"
      },
      "execution_count": null,
      "outputs": [
        {
          "output_type": "execute_result",
          "data": {
            "text/plain": [
              "cod_unidade\n",
              "un    1197\n",
              "lt     615\n",
              "pc      73\n",
              "9       13\n",
              "hr      10\n",
              "gl       5\n",
              "dl       1\n",
              "Name: count, dtype: int64"
            ],
            "text/html": [
              "<div>\n",
              "<style scoped>\n",
              "    .dataframe tbody tr th:only-of-type {\n",
              "        vertical-align: middle;\n",
              "    }\n",
              "\n",
              "    .dataframe tbody tr th {\n",
              "        vertical-align: top;\n",
              "    }\n",
              "\n",
              "    .dataframe thead th {\n",
              "        text-align: right;\n",
              "    }\n",
              "</style>\n",
              "<table border=\"1\" class=\"dataframe\">\n",
              "  <thead>\n",
              "    <tr style=\"text-align: right;\">\n",
              "      <th></th>\n",
              "      <th>count</th>\n",
              "    </tr>\n",
              "    <tr>\n",
              "      <th>cod_unidade</th>\n",
              "      <th></th>\n",
              "    </tr>\n",
              "  </thead>\n",
              "  <tbody>\n",
              "    <tr>\n",
              "      <th>un</th>\n",
              "      <td>1197</td>\n",
              "    </tr>\n",
              "    <tr>\n",
              "      <th>lt</th>\n",
              "      <td>615</td>\n",
              "    </tr>\n",
              "    <tr>\n",
              "      <th>pc</th>\n",
              "      <td>73</td>\n",
              "    </tr>\n",
              "    <tr>\n",
              "      <th>9</th>\n",
              "      <td>13</td>\n",
              "    </tr>\n",
              "    <tr>\n",
              "      <th>hr</th>\n",
              "      <td>10</td>\n",
              "    </tr>\n",
              "    <tr>\n",
              "      <th>gl</th>\n",
              "      <td>5</td>\n",
              "    </tr>\n",
              "    <tr>\n",
              "      <th>dl</th>\n",
              "      <td>1</td>\n",
              "    </tr>\n",
              "  </tbody>\n",
              "</table>\n",
              "</div><br><label><b>dtype:</b> int64</label>"
            ]
          },
          "metadata": {},
          "execution_count": 15
        }
      ]
    },
    {
      "cell_type": "code",
      "source": [
        "# === 7. Codificação das variáveis categóricas ===\n",
        "colunas_cat = ['cod_ncm', 'cod_anp', 'cod_unidade']\n",
        "X_categorico, encoder = codificar_variaveis_categoricas(df, colunas_cat, arquivo_encoder)"
      ],
      "metadata": {
        "id": "cdHR4LSXpLqI"
      },
      "execution_count": null,
      "outputs": []
    },
    {
      "cell_type": "code",
      "source": [
        "# === 8. Vetorização da variável textual ===\n",
        "df['txt_descricao'] = df['des_anp'].fillna('') + ' | ' + df['des_produto'].fillna('')\n",
        "X_texto = vetorizar_texto(df, 'txt_descricao', arquivo_vectorizer, arquivo_vocabulario)"
      ],
      "metadata": {
        "id": "PnuUt5XVsLeP"
      },
      "execution_count": null,
      "outputs": []
    },
    {
      "cell_type": "code",
      "source": [
        "# === 9. Combinação das variáveis preditoras codificadas e vetorizadas ===\n",
        "X = pd.concat([\n",
        "    pd.DataFrame(X_categorico.toarray(), columns=encoder.get_feature_names_out(['cod_ncm', 'cod_anp', 'cod_unidade'])),\n",
        "    pd.DataFrame(X_texto.toarray())\n",
        "], axis=1)\n",
        "X.columns = X.columns.astype(str)"
      ],
      "metadata": {
        "id": "0GNS6skXGcPp"
      },
      "execution_count": null,
      "outputs": []
    },
    {
      "cell_type": "code",
      "source": [
        "# === 10. Variável alvo ===\n",
        "y = df['categoria']"
      ],
      "metadata": {
        "id": "ehvJSnZngDfC"
      },
      "execution_count": null,
      "outputs": []
    },
    {
      "cell_type": "code",
      "source": [
        "# === 11. Salvamento do dataset final ===\n",
        "df_codificado = pd.concat([X, y], axis=1)\n",
        "df_codificado.to_csv(arquivo_codificado, index=False)"
      ],
      "metadata": {
        "id": "PCNk5lUxCRGg",
        "collapsed": true
      },
      "execution_count": null,
      "outputs": []
    },
    {
      "cell_type": "code",
      "source": [
        "len(df_codificado)"
      ],
      "metadata": {
        "colab": {
          "base_uri": "https://localhost:8080/"
        },
        "id": "z5TpQBd0veDw",
        "outputId": "f7eec1b6-a882-4310-c671-ffc9ef671478"
      },
      "execution_count": null,
      "outputs": [
        {
          "output_type": "execute_result",
          "data": {
            "text/plain": [
              "1914"
            ]
          },
          "metadata": {},
          "execution_count": 14
        }
      ]
    },
    {
      "cell_type": "code",
      "source": [
        "len(df_codificado.columns)"
      ],
      "metadata": {
        "colab": {
          "base_uri": "https://localhost:8080/"
        },
        "id": "9xgwQZrAV5mC",
        "outputId": "346d574a-dff2-43e1-cdf9-66d2573f1e65"
      },
      "execution_count": null,
      "outputs": [
        {
          "output_type": "execute_result",
          "data": {
            "text/plain": [
              "186"
            ]
          },
          "metadata": {},
          "execution_count": 15
        }
      ]
    }
  ]
}