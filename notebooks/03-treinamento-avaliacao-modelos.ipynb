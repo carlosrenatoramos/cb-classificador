{
  "cells": [
    {
      "cell_type": "markdown",
      "metadata": {
        "id": "wc3eTjQE0H-b"
      },
      "source": [
        "# **Colab**"
      ]
    },
    {
      "cell_type": "code",
      "execution_count": 17,
      "metadata": {
        "id": "BUVM46voKiJx",
        "colab": {
          "base_uri": "https://localhost:8080/"
        },
        "outputId": "c6529993-b46f-4ed2-d84d-a5d49c134ce0"
      },
      "outputs": [
        {
          "output_type": "stream",
          "name": "stdout",
          "text": [
            "Drive already mounted at /content/drive; to attempt to forcibly remount, call drive.mount(\"/content/drive\", force_remount=True).\n"
          ]
        }
      ],
      "source": [
        "# === 1. Montagem do Google Drive e definição dos caminhos ===\n",
        "from google.colab import drive\n",
        "drive.mount('/content/drive')\n",
        "arquivo_codificado = '/content/drive/My Drive/Colab/cb-classificador/data/dados_codificados.csv'"
      ]
    },
    {
      "cell_type": "code",
      "execution_count": 18,
      "metadata": {
        "id": "vD4a0iO1gNM1"
      },
      "outputs": [],
      "source": [
        "# === 2. Importação de bibliotecas ===\n",
        "import time\n",
        "import pandas as pd\n",
        "import numpy as np\n",
        "import seaborn as sns\n",
        "import matplotlib.pyplot as plt\n",
        "from sklearn.model_selection import train_test_split, cross_val_score\n",
        "from sklearn.model_selection import GridSearchCV, RepeatedStratifiedKFold\n",
        "from sklearn.metrics import accuracy_score, precision_score, recall_score, f1_score\n",
        "from sklearn.metrics import classification_report, confusion_matrix"
      ]
    },
    {
      "cell_type": "code",
      "source": [
        "# === 3. Função para treinar, otimizar hiperparâmetros e avaliar um modelo de classificação ===\n",
        "def treinar_otimizar_avaliar(model, param_grid, df_dados, folds=10, seed=42):\n",
        "\n",
        "    print(\"\\nAlgoritmo:\")\n",
        "    print(model)\n",
        "\n",
        "    # Separa variáveis preditoras (X) e alvo (y)\n",
        "    X = df_dados.drop(columns=['categoria'])\n",
        "    y = df_dados['categoria']\n",
        "\n",
        "    # Divide os dados em treinamento e teste com estratificação\n",
        "    X_train, X_test, y_train, y_test = train_test_split(X, y, test_size=0.2, stratify=y, random_state=seed)\n",
        "\n",
        "    # Informa o tamanho dos conjuntos de dados, treinamento e teste\n",
        "    print(f\"\\nTamanho do Conjunto de Dados : {len(df_dados)} amostras\")\n",
        "    print(f\"Tamanho do Conjunto de Treino: {len(X_train)} amostras\")\n",
        "    print(f\"Tamanho do Conjunto de Teste : {len(X_test)} amostras\")\n",
        "\n",
        "    # Configura random_state se o modelo suportar\n",
        "    if \"random_state\" in model.get_params():\n",
        "        model.set_params(random_state=seed)\n",
        "\n",
        "    # Validação cruzada com o modelo padrão\n",
        "    cv_strategy = RepeatedStratifiedKFold(n_repeats=3, n_splits=folds, random_state=seed)\n",
        "    default_scores = cross_val_score(model, X_train, y_train, cv=cv_strategy, scoring='accuracy', n_jobs=-1)\n",
        "    print(\"\\nConjunto de Treinamento - Resultados da Validação Cruzada (hiperparâmetros padrão):\")\n",
        "    print(f\"Acurácia: {np.mean(default_scores) * 100:.2f}%\")\n",
        "\n",
        "    # Configura GridSearchCV\n",
        "    grid_search = GridSearchCV(estimator=model, param_grid=param_grid, n_jobs=-1, cv=cv_strategy, scoring='accuracy', error_score=0)\n",
        "\n",
        "    # Registra o início da execução\n",
        "    start_time = time.time()\n",
        "\n",
        "    # Busca melhores hiperparâmetros\n",
        "    grid_result = grid_search.fit(X_train, y_train)\n",
        "\n",
        "    # Registra o final da execução\n",
        "    end_time = time.time()\n",
        "\n",
        "    # Tempo de execução\n",
        "    total_seconds = end_time - start_time\n",
        "    hours = total_seconds // 3600\n",
        "    minutes = (total_seconds % 3600) // 60\n",
        "    seconds = total_seconds % 60\n",
        "\n",
        "    # Quantidade de combinações de valores de hiperparâmetros\n",
        "    num_combinations = len(grid_result.cv_results_['params'])\n",
        "\n",
        "    # Resultados do GridSearchCV\n",
        "    print(\"\\nConjunto de Treinamento - Resultados da Validação Cruzada (melhores hiperparâmetros):\")\n",
        "    print(f\"Acurácia: {grid_result.best_score_ * 100:.2f}%\")\n",
        "    print(f\"Tempo de execução do ajuste de hiperparâmetros: {int(hours)}:{int(minutes):02}:{int(seconds):02}\")\n",
        "    print(f'Quantidade de combinações de hiperparâmetros: {num_combinations}')\n",
        "    print(f\"Melhores hiperparâmetros: {grid_result.best_params_}\")\n",
        "\n",
        "    # Avaliação no conjunto de teste\n",
        "    y_pred = grid_result.best_estimator_.predict(X_test)\n",
        "    accuracy = accuracy_score(y_test, y_pred)\n",
        "    precision = precision_score(y_test, y_pred, average='macro')\n",
        "    recall = recall_score(y_test, y_pred, average='macro')\n",
        "    score = f1_score(y_test, y_pred, average='macro')\n",
        "    print(\"\\nConjunto de Teste - Resultados de Predições (melhores hiperparâmetros):\")\n",
        "    print(f\"Acurácia: {accuracy * 100:.2f}%\")\n",
        "    print(f\"Precisão: {precision * 100:.2f}%\")\n",
        "    print(f\"Recall  : {recall * 100:.2f}%\")\n",
        "    print(f\"F1-score: {score * 100:.2f}%\")\n",
        "    print(\"\\nConjunto de Teste - Relatório de Classificação:\")\n",
        "    print(classification_report(y_test, y_pred))\n",
        "    print(\"\\nConjunto de Teste - Matriz de Confusão:\")\n",
        "    conf_matrix = confusion_matrix(y_test, y_pred)\n",
        "    print(conf_matrix)\n",
        "    print(\"\\n\")\n",
        "\n",
        "    # Visualização da matriz de confusão\n",
        "    plt.figure(figsize=(4, 3))\n",
        "    sns.heatmap(conf_matrix, annot=True, fmt='d', cmap='Blues', xticklabels=np.unique(y_test), yticklabels=np.unique(y_test))\n",
        "    plt.ylabel('Classe Real')\n",
        "    plt.xlabel('Classe Predita')\n",
        "    plt.show()\n"
      ],
      "metadata": {
        "id": "cS4Bo2QDFwIj"
      },
      "execution_count": 28,
      "outputs": []
    },
    {
      "cell_type": "code",
      "source": [
        "# === 4. Leitura do arquivo de entrada ===\n",
        "df_dados = pd.read_csv(arquivo_codificado)"
      ],
      "metadata": {
        "id": "g1VnW1UG7_0Y"
      },
      "execution_count": 20,
      "outputs": []
    },
    {
      "cell_type": "code",
      "source": [
        "len(df_dados)"
      ],
      "metadata": {
        "colab": {
          "base_uri": "https://localhost:8080/"
        },
        "id": "oQk8rKMB8EKP",
        "outputId": "579f7e74-6b3d-4f91-9708-de9cb25cecb5"
      },
      "execution_count": 21,
      "outputs": [
        {
          "output_type": "execute_result",
          "data": {
            "text/plain": [
              "1914"
            ]
          },
          "metadata": {},
          "execution_count": 21
        }
      ]
    },
    {
      "cell_type": "code",
      "source": [
        "len(df_dados.columns)"
      ],
      "metadata": {
        "colab": {
          "base_uri": "https://localhost:8080/"
        },
        "id": "WFmrzJIS8Hkr",
        "outputId": "960580ea-c57e-4af9-86de-b499554b5d7f"
      },
      "execution_count": 22,
      "outputs": [
        {
          "output_type": "execute_result",
          "data": {
            "text/plain": [
              "186"
            ]
          },
          "metadata": {},
          "execution_count": 22
        }
      ]
    },
    {
      "cell_type": "code",
      "source": [
        "df_dados['categoria'].value_counts()"
      ],
      "metadata": {
        "colab": {
          "base_uri": "https://localhost:8080/",
          "height": 178
        },
        "id": "1A7jqF5M8Kjz",
        "outputId": "7c7dbc16-7a7d-47bd-a103-f2c9553ae183"
      },
      "execution_count": 23,
      "outputs": [
        {
          "output_type": "execute_result",
          "data": {
            "text/plain": [
              "categoria\n",
              "XX    1110\n",
              "CB     804\n",
              "Name: count, dtype: int64"
            ],
            "text/html": [
              "<div>\n",
              "<style scoped>\n",
              "    .dataframe tbody tr th:only-of-type {\n",
              "        vertical-align: middle;\n",
              "    }\n",
              "\n",
              "    .dataframe tbody tr th {\n",
              "        vertical-align: top;\n",
              "    }\n",
              "\n",
              "    .dataframe thead th {\n",
              "        text-align: right;\n",
              "    }\n",
              "</style>\n",
              "<table border=\"1\" class=\"dataframe\">\n",
              "  <thead>\n",
              "    <tr style=\"text-align: right;\">\n",
              "      <th></th>\n",
              "      <th>count</th>\n",
              "    </tr>\n",
              "    <tr>\n",
              "      <th>categoria</th>\n",
              "      <th></th>\n",
              "    </tr>\n",
              "  </thead>\n",
              "  <tbody>\n",
              "    <tr>\n",
              "      <th>XX</th>\n",
              "      <td>1110</td>\n",
              "    </tr>\n",
              "    <tr>\n",
              "      <th>CB</th>\n",
              "      <td>804</td>\n",
              "    </tr>\n",
              "  </tbody>\n",
              "</table>\n",
              "</div><br><label><b>dtype:</b> int64</label>"
            ]
          },
          "metadata": {},
          "execution_count": 23
        }
      ]
    },
    {
      "cell_type": "code",
      "execution_count": 24,
      "metadata": {
        "colab": {
          "base_uri": "https://localhost:8080/",
          "height": 988
        },
        "id": "A9Wdu_juymqM",
        "outputId": "24cafb5f-0942-4a2b-e288-c5ce8dd8434e"
      },
      "outputs": [
        {
          "output_type": "stream",
          "name": "stdout",
          "text": [
            "\n",
            "Algoritmo:\n",
            "KNeighborsClassifier()\n",
            "\n",
            "Tamanho do Conjunto de Dados : 1914 amostras\n",
            "Tamanho do Conjunto de Treino: 1531 amostras\n",
            "Tamanho do Conjunto de Teste : 383 amostras\n",
            "\n",
            "Conjunto de Treinamento - Resultados da Validação Cruzada (hiperparâmetros padrão):\n",
            "Acurácia: 96.56%\n",
            "\n",
            "Conjunto de Treinamento - Resultados da Validação Cruzada (melhores hiperparâmetros):\n",
            "Acurácia: 97.54%\n",
            "Tempo de execução do ajuste de hiperparâmetros: 0:01:42\n",
            "Quantidade de combinações de hiperparâmetros: 54\n",
            "Melhores hiperparâmetros: {'algorithm': 'kd_tree', 'metric': 'manhattan', 'n_neighbors': 5, 'weights': 'distance'}\n",
            "\n",
            "Conjunto de Teste - Resultados de Predições (melhores hiperparâmetros):\n",
            "Acurácia: 98.43%\n",
            "Precisão: 98.48%\n",
            "Recall  : 98.31%\n",
            "F1-score: 98.39%\n",
            "\n",
            "Conjunto de Teste - Relatório de Classificação:\n",
            "              precision    recall  f1-score   support\n",
            "\n",
            "          CB       0.99      0.98      0.98       161\n",
            "          XX       0.98      0.99      0.99       222\n",
            "\n",
            "    accuracy                           0.98       383\n",
            "   macro avg       0.98      0.98      0.98       383\n",
            "weighted avg       0.98      0.98      0.98       383\n",
            "\n",
            "\n",
            "Conjunto de Teste - Matriz de Confusão:\n",
            "[[157   4]\n",
            " [  2 220]]\n",
            "\n",
            "\n"
          ]
        },
        {
          "output_type": "display_data",
          "data": {
            "text/plain": [
              "<Figure size 400x300 with 2 Axes>"
            ],
            "image/png": "[encoded data removed]"
          },
          "metadata": {}
        }
      ],
      "source": [
        "# === K N Neighbors === (54)\n",
        "from sklearn.neighbors import KNeighborsClassifier\n",
        "model = KNeighborsClassifier()\n",
        "param_grid = {\n",
        "    'n_neighbors': [3, 5, 7],                            # Padrão: 5\n",
        "    'weights': ['uniform', 'distance'],                  # Padrão: 'uniform'\n",
        "    'algorithm': ['auto', 'ball_tree', 'kd_tree'],       # Padrão: 'auto'\n",
        "    'metric': ['minkowski', 'euclidean', 'manhattan']    # Padrão: 'minkowski'\n",
        "}\n",
        "treinar_otimizar_avaliar(model, param_grid, df_dados)"
      ]
    },
    {
      "cell_type": "code",
      "source": [
        "# === Naive Bayes === (7)\n",
        "from sklearn.naive_bayes import ComplementNB\n",
        "model = ComplementNB()\n",
        "param_grid = {\n",
        "    'alpha': [0.01, 0.05, 0.1, 0.5, 1.0, 5.0, 10.0],    # Padrão: 1.0\n",
        "}\n",
        "treinar_otimizar_avaliar(model, param_grid, df_dados)"
      ],
      "metadata": {
        "colab": {
          "base_uri": "https://localhost:8080/",
          "height": 988
        },
        "id": "4N3vJxgtU7be",
        "outputId": "32ca4115-9b3d-4e2c-fced-d4b2cb707b06"
      },
      "execution_count": 29,
      "outputs": [
        {
          "output_type": "stream",
          "name": "stdout",
          "text": [
            "\n",
            "Algoritmo:\n",
            "ComplementNB()\n",
            "\n",
            "Tamanho do Conjunto de Dados : 1914 amostras\n",
            "Tamanho do Conjunto de Treino: 1531 amostras\n",
            "Tamanho do Conjunto de Teste : 383 amostras\n",
            "\n",
            "Conjunto de Treinamento - Resultados da Validação Cruzada (hiperparâmetros padrão):\n",
            "Acurácia: 96.26%\n",
            "\n",
            "Conjunto de Treinamento - Resultados da Validação Cruzada (melhores hiperparâmetros):\n",
            "Acurácia: 96.89%\n",
            "Tempo de execução do ajuste de hiperparâmetros: 0:00:02\n",
            "Quantidade de combinações de hiperparâmetros: 7\n",
            "Melhores hiperparâmetros: {'alpha': 0.01}\n",
            "\n",
            "Conjunto de Teste - Resultados de Predições (melhores hiperparâmetros):\n",
            "Acurácia: 97.91%\n",
            "Precisão: 98.04%\n",
            "Recall  : 97.69%\n",
            "F1-score: 97.85%\n",
            "\n",
            "Conjunto de Teste - Relatório de Classificação:\n",
            "              precision    recall  f1-score   support\n",
            "\n",
            "          CB       0.99      0.96      0.97       161\n",
            "          XX       0.97      0.99      0.98       222\n",
            "\n",
            "    accuracy                           0.98       383\n",
            "   macro avg       0.98      0.98      0.98       383\n",
            "weighted avg       0.98      0.98      0.98       383\n",
            "\n",
            "\n",
            "Conjunto de Teste - Matriz de Confusão:\n",
            "[[155   6]\n",
            " [  2 220]]\n",
            "\n",
            "\n"
          ]
        },
        {
          "output_type": "display_data",
          "data": {
            "text/plain": [
              "<Figure size 400x300 with 2 Axes>"
            ],
            "image/png": "[encoded data removed]"
          },
          "metadata": {}
        }
      ]
    },
    {
      "cell_type": "code",
      "execution_count": 30,
      "metadata": {
        "colab": {
          "base_uri": "https://localhost:8080/",
          "height": 988
        },
        "id": "Ud9ff5Fr8tqi",
        "outputId": "f921d8f7-462f-4553-a1f1-29771a4dcea2"
      },
      "outputs": [
        {
          "output_type": "stream",
          "name": "stdout",
          "text": [
            "\n",
            "Algoritmo:\n",
            "DecisionTreeClassifier()\n",
            "\n",
            "Tamanho do Conjunto de Dados : 1914 amostras\n",
            "Tamanho do Conjunto de Treino: 1531 amostras\n",
            "Tamanho do Conjunto de Teste : 383 amostras\n",
            "\n",
            "Conjunto de Treinamento - Resultados da Validação Cruzada (hiperparâmetros padrão):\n",
            "Acurácia: 97.45%\n",
            "\n",
            "Conjunto de Treinamento - Resultados da Validação Cruzada (melhores hiperparâmetros):\n",
            "Acurácia: 95.89%\n",
            "Tempo de execução do ajuste de hiperparâmetros: 0:00:21\n",
            "Quantidade de combinações de hiperparâmetros: 64\n",
            "Melhores hiperparâmetros: {'class_weight': 'balanced', 'criterion': 'entropy', 'max_depth': 40, 'max_features': 'log2', 'min_samples_leaf': 1, 'min_samples_split': 2}\n",
            "\n",
            "Conjunto de Teste - Resultados de Predições (melhores hiperparâmetros):\n",
            "Acurácia: 97.39%\n",
            "Precisão: 97.32%\n",
            "Recall  : 97.32%\n",
            "F1-score: 97.32%\n",
            "\n",
            "Conjunto de Teste - Relatório de Classificação:\n",
            "              precision    recall  f1-score   support\n",
            "\n",
            "          CB       0.97      0.97      0.97       161\n",
            "          XX       0.98      0.98      0.98       222\n",
            "\n",
            "    accuracy                           0.97       383\n",
            "   macro avg       0.97      0.97      0.97       383\n",
            "weighted avg       0.97      0.97      0.97       383\n",
            "\n",
            "\n",
            "Conjunto de Teste - Matriz de Confusão:\n",
            "[[156   5]\n",
            " [  5 217]]\n",
            "\n",
            "\n"
          ]
        },
        {
          "output_type": "display_data",
          "data": {
            "text/plain": [
              "<Figure size 400x300 with 2 Axes>"
            ],
            "image/png": "[encoded data removed]"
          },
          "metadata": {}
        }
      ],
      "source": [
        "# === Decision Tree === (64)\n",
        "from sklearn.tree import DecisionTreeClassifier\n",
        "model = DecisionTreeClassifier()\n",
        "param_grid = {\n",
        "    'criterion': ['gini', 'entropy'],    # Padrão: 'gini'\n",
        "    'min_samples_split': [2, 5],         # Padrão: 2\n",
        "    'min_samples_leaf': [1, 2],          # Padrão: 1\n",
        "    'max_depth': [10, 20, 30, 40],       # Padrão: None\n",
        "    'max_features': ['sqrt', 'log2'],    # Padrão: None\n",
        "    'class_weight': ['balanced']         # Padrão: None\n",
        "}\n",
        "treinar_otimizar_avaliar(model, param_grid, df_dados)"
      ]
    },
    {
      "cell_type": "code",
      "execution_count": 31,
      "metadata": {
        "colab": {
          "base_uri": "https://localhost:8080/",
          "height": 988
        },
        "id": "N6HnALUTgfuh",
        "outputId": "cf7d4ffd-920c-4740-815e-a17ebe05d09a"
      },
      "outputs": [
        {
          "output_type": "stream",
          "name": "stdout",
          "text": [
            "\n",
            "Algoritmo:\n",
            "LogisticRegression()\n",
            "\n",
            "Tamanho do Conjunto de Dados : 1914 amostras\n",
            "Tamanho do Conjunto de Treino: 1531 amostras\n",
            "Tamanho do Conjunto de Teste : 383 amostras\n",
            "\n",
            "Conjunto de Treinamento - Resultados da Validação Cruzada (hiperparâmetros padrão):\n",
            "Acurácia: 96.60%\n",
            "\n",
            "Conjunto de Treinamento - Resultados da Validação Cruzada (melhores hiperparâmetros):\n",
            "Acurácia: 97.80%\n",
            "Tempo de execução do ajuste de hiperparâmetros: 0:01:25\n",
            "Quantidade de combinações de hiperparâmetros: 27\n",
            "Melhores hiperparâmetros: {'C': 10.0, 'class_weight': 'balanced', 'max_iter': 80, 'penalty': 'l2', 'solver': 'newton-cholesky'}\n",
            "\n",
            "Conjunto de Teste - Resultados de Predições (melhores hiperparâmetros):\n",
            "Acurácia: 98.17%\n",
            "Precisão: 98.09%\n",
            "Recall  : 98.17%\n",
            "F1-score: 98.13%\n",
            "\n",
            "Conjunto de Teste - Relatório de Classificação:\n",
            "              precision    recall  f1-score   support\n",
            "\n",
            "          CB       0.98      0.98      0.98       161\n",
            "          XX       0.99      0.98      0.98       222\n",
            "\n",
            "    accuracy                           0.98       383\n",
            "   macro avg       0.98      0.98      0.98       383\n",
            "weighted avg       0.98      0.98      0.98       383\n",
            "\n",
            "\n",
            "Conjunto de Teste - Matriz de Confusão:\n",
            "[[158   3]\n",
            " [  4 218]]\n",
            "\n",
            "\n"
          ]
        },
        {
          "output_type": "display_data",
          "data": {
            "text/plain": [
              "<Figure size 400x300 with 2 Axes>"
            ],
            "image/png": "[encoded data removed]"
          },
          "metadata": {}
        }
      ],
      "source": [
        "# === Log Regression === (27)\n",
        "from sklearn.linear_model import LogisticRegression\n",
        "model = LogisticRegression()\n",
        "param_grid = {\n",
        "    'solver': ['lbfgs', 'newton-cholesky', 'saga'],    # Padrão = 'lbfgs'\n",
        "    'penalty': ['l2'],                                 # Padrão = 'l2'\n",
        "    'C': [0.1, 1.0, 10.0],                             # Padrão = 1.0\n",
        "    'max_iter': [80, 100, 120],                        # Padrão = 100\n",
        "    'class_weight': ['balanced']                       # Padrão = None\n",
        "}\n",
        "treinar_otimizar_avaliar(model, param_grid, df_dados)"
      ]
    },
    {
      "cell_type": "code",
      "execution_count": 32,
      "metadata": {
        "colab": {
          "base_uri": "https://localhost:8080/",
          "height": 988
        },
        "id": "UxlLFKObyopI",
        "outputId": "9d2d440f-1d13-4fa7-eccf-a7de4f370176"
      },
      "outputs": [
        {
          "output_type": "stream",
          "name": "stdout",
          "text": [
            "\n",
            "Algoritmo:\n",
            "SVC()\n",
            "\n",
            "Tamanho do Conjunto de Dados : 1914 amostras\n",
            "Tamanho do Conjunto de Treino: 1531 amostras\n",
            "Tamanho do Conjunto de Teste : 383 amostras\n",
            "\n",
            "Conjunto de Treinamento - Resultados da Validação Cruzada (hiperparâmetros padrão):\n",
            "Acurácia: 96.69%\n",
            "\n",
            "Conjunto de Treinamento - Resultados da Validação Cruzada (melhores hiperparâmetros):\n",
            "Acurácia: 98.17%\n",
            "Tempo de execução do ajuste de hiperparâmetros: 0:02:38\n",
            "Quantidade de combinações de hiperparâmetros: 40\n",
            "Melhores hiperparâmetros: {'C': 100, 'class_weight': 'balanced', 'gamma': 'auto', 'kernel': 'rbf'}\n",
            "\n",
            "Conjunto de Teste - Resultados de Predições (melhores hiperparâmetros):\n",
            "Acurácia: 98.43%\n",
            "Precisão: 98.39%\n",
            "Recall  : 98.39%\n",
            "F1-score: 98.39%\n",
            "\n",
            "Conjunto de Teste - Relatório de Classificação:\n",
            "              precision    recall  f1-score   support\n",
            "\n",
            "          CB       0.98      0.98      0.98       161\n",
            "          XX       0.99      0.99      0.99       222\n",
            "\n",
            "    accuracy                           0.98       383\n",
            "   macro avg       0.98      0.98      0.98       383\n",
            "weighted avg       0.98      0.98      0.98       383\n",
            "\n",
            "\n",
            "Conjunto de Teste - Matriz de Confusão:\n",
            "[[158   3]\n",
            " [  3 219]]\n",
            "\n",
            "\n"
          ]
        },
        {
          "output_type": "display_data",
          "data": {
            "text/plain": [
              "<Figure size 400x300 with 2 Axes>"
            ],
            "image/png": "[encoded data removed]"
          },
          "metadata": {}
        }
      ],
      "source": [
        "# === Sup Vector Machine === (40)\n",
        "from sklearn.svm import SVC\n",
        "model = SVC()\n",
        "param_grid = {\n",
        "    'kernel': ['rbf', 'poly', 'sigmoid', 'linear'],    # Padrão: 'rbf'\n",
        "    'C': [0.01, 0.1, 1, 10, 100],                      # Padrão: 1\n",
        "    'gamma': ['scale', 'auto'],                        # Padrão: 'scale'\n",
        "    'class_weight': ['balanced']                       # Padrão: None\n",
        "}\n",
        "treinar_otimizar_avaliar(model, param_grid, df_dados)"
      ]
    },
    {
      "cell_type": "code",
      "execution_count": 34,
      "metadata": {
        "colab": {
          "base_uri": "https://localhost:8080/",
          "height": 1000
        },
        "id": "eSk-l7mWi9Z-",
        "outputId": "5fbcbd85-ab20-4f16-8fce-a17517e22bd2"
      },
      "outputs": [
        {
          "output_type": "stream",
          "name": "stdout",
          "text": [
            "\n",
            "Algoritmo:\n",
            "RandomForestClassifier()\n",
            "\n",
            "Tamanho do Conjunto de Dados : 1914 amostras\n",
            "Tamanho do Conjunto de Treino: 1531 amostras\n",
            "Tamanho do Conjunto de Teste : 383 amostras\n",
            "\n",
            "Conjunto de Treinamento - Resultados da Validação Cruzada (hiperparâmetros padrão):\n",
            "Acurácia: 98.02%\n",
            "\n",
            "Conjunto de Treinamento - Resultados da Validação Cruzada (melhores hiperparâmetros):\n",
            "Acurácia: 98.32%\n",
            "Tempo de execução do ajuste de hiperparâmetros: 0:17:32\n",
            "Quantidade de combinações de hiperparâmetros: 96\n",
            "Melhores hiperparâmetros: {'class_weight': 'balanced', 'criterion': 'entropy', 'max_depth': 30, 'max_features': 'log2', 'min_samples_leaf': 1, 'min_samples_split': 2, 'n_estimators': 200}\n",
            "\n",
            "Conjunto de Teste - Resultados de Predições (melhores hiperparâmetros):\n",
            "Acurácia: 98.17%\n",
            "Precisão: 98.26%\n",
            "Recall  : 98.00%\n",
            "F1-score: 98.12%\n",
            "\n",
            "Conjunto de Teste - Relatório de Classificação:\n",
            "              precision    recall  f1-score   support\n",
            "\n",
            "          CB       0.99      0.97      0.98       161\n",
            "          XX       0.98      0.99      0.98       222\n",
            "\n",
            "    accuracy                           0.98       383\n",
            "   macro avg       0.98      0.98      0.98       383\n",
            "weighted avg       0.98      0.98      0.98       383\n",
            "\n",
            "\n",
            "Conjunto de Teste - Matriz de Confusão:\n",
            "[[156   5]\n",
            " [  2 220]]\n",
            "\n",
            "\n"
          ]
        },
        {
          "output_type": "display_data",
          "data": {
            "text/plain": [
              "<Figure size 400x300 with 2 Axes>"
            ],
            "image/png": "[encoded data removed]"
          },
          "metadata": {}
        }
      ],
      "source": [
        "# === Random Forest === (96)\n",
        "from sklearn.ensemble import RandomForestClassifier\n",
        "model = RandomForestClassifier()\n",
        "param_grid = {\n",
        "    'criterion': ['gini', 'entropy'],    # Padrão: 'gini'\n",
        "    'n_estimators': [100, 200],          # Padrão: 100\n",
        "    'max_depth': [10, 20, 30],           # Padrão: None\n",
        "    'min_samples_split': [2, 5],         # Padrão: 2\n",
        "    'min_samples_leaf': [1, 2],          # Padrão: 1\n",
        "    'max_features': ['sqrt', 'log2'],    # Padrão: 'sqrt'\n",
        "    'class_weight': ['balanced']         # Padrão: None\n",
        "}\n",
        "treinar_otimizar_avaliar(model, param_grid, df_dados)"
      ]
    },
    {
      "cell_type": "code",
      "execution_count": 35,
      "metadata": {
        "colab": {
          "base_uri": "https://localhost:8080/",
          "height": 988
        },
        "id": "djf2s3z5m9jP",
        "outputId": "05b0cfd8-df2e-4f88-9054-e3ac390dc064"
      },
      "outputs": [
        {
          "output_type": "stream",
          "name": "stdout",
          "text": [
            "\n",
            "Algoritmo:\n",
            "GradientBoostingClassifier()\n",
            "\n",
            "Tamanho do Conjunto de Dados : 1914 amostras\n",
            "Tamanho do Conjunto de Treino: 1531 amostras\n",
            "Tamanho do Conjunto de Teste : 383 amostras\n",
            "\n",
            "Conjunto de Treinamento - Resultados da Validação Cruzada (hiperparâmetros padrão):\n",
            "Acurácia: 97.37%\n",
            "\n",
            "Conjunto de Treinamento - Resultados da Validação Cruzada (melhores hiperparâmetros):\n",
            "Acurácia: 98.00%\n",
            "Tempo de execução do ajuste de hiperparâmetros: 0:16:40\n",
            "Quantidade de combinações de hiperparâmetros: 96\n",
            "Melhores hiperparâmetros: {'criterion': 'squared_error', 'max_depth': 5, 'max_features': 'sqrt', 'min_samples_leaf': 1, 'min_samples_split': 2, 'n_estimators': 300}\n",
            "\n",
            "Conjunto de Teste - Resultados de Predições (melhores hiperparâmetros):\n",
            "Acurácia: 97.65%\n",
            "Precisão: 97.72%\n",
            "Recall  : 97.46%\n",
            "F1-score: 97.58%\n",
            "\n",
            "Conjunto de Teste - Relatório de Classificação:\n",
            "              precision    recall  f1-score   support\n",
            "\n",
            "          CB       0.98      0.96      0.97       161\n",
            "          XX       0.97      0.99      0.98       222\n",
            "\n",
            "    accuracy                           0.98       383\n",
            "   macro avg       0.98      0.97      0.98       383\n",
            "weighted avg       0.98      0.98      0.98       383\n",
            "\n",
            "\n",
            "Conjunto de Teste - Matriz de Confusão:\n",
            "[[155   6]\n",
            " [  3 219]]\n",
            "\n",
            "\n"
          ]
        },
        {
          "output_type": "display_data",
          "data": {
            "text/plain": [
              "<Figure size 400x300 with 2 Axes>"
            ],
            "image/png": "[encoded data removed]"
          },
          "metadata": {}
        }
      ],
      "source": [
        "# === Grad Boosting === (96)\n",
        "from sklearn.ensemble import GradientBoostingClassifier\n",
        "model = GradientBoostingClassifier()\n",
        "param_grid = {\n",
        "    'n_estimators': [100, 200, 300],                   # Padrão: 100\n",
        "    'criterion': ['friedman_mse', 'squared_error'],    # Padrão: 'friedman_mse'\n",
        "    'max_features': ['sqrt', 'log2'],                  # Padrão: None\n",
        "    'max_depth': [3, 5],                               # Padrão: 3\n",
        "    'min_samples_split': [2, 5],                       # Padrão: 2\n",
        "    'min_samples_leaf': [1, 2]                         # Padrão: 1\n",
        "}\n",
        "treinar_otimizar_avaliar(model, param_grid, df_dados)"
      ]
    },
    {
      "cell_type": "code",
      "execution_count": 36,
      "metadata": {
        "colab": {
          "base_uri": "https://localhost:8080/",
          "height": 988
        },
        "id": "Xz-tUfelsGuR",
        "outputId": "9a9f3e72-d32b-46ca-d276-7f248d7f54f9"
      },
      "outputs": [
        {
          "output_type": "stream",
          "name": "stdout",
          "text": [
            "\n",
            "Algoritmo:\n",
            "Perceptron()\n",
            "\n",
            "Tamanho do Conjunto de Dados : 1914 amostras\n",
            "Tamanho do Conjunto de Treino: 1531 amostras\n",
            "Tamanho do Conjunto de Teste : 383 amostras\n",
            "\n",
            "Conjunto de Treinamento - Resultados da Validação Cruzada (hiperparâmetros padrão):\n",
            "Acurácia: 96.78%\n",
            "\n",
            "Conjunto de Treinamento - Resultados da Validação Cruzada (melhores hiperparâmetros):\n",
            "Acurácia: 97.04%\n",
            "Tempo de execução do ajuste de hiperparâmetros: 0:00:17\n",
            "Quantidade de combinações de hiperparâmetros: 32\n",
            "Melhores hiperparâmetros: {'alpha': 0.0001, 'eta0': 0.1, 'max_iter': 50, 'penalty': 'elasticnet'}\n",
            "\n",
            "Conjunto de Teste - Resultados de Predições (melhores hiperparâmetros):\n",
            "Acurácia: 97.13%\n",
            "Precisão: 96.90%\n",
            "Recall  : 97.27%\n",
            "F1-score: 97.07%\n",
            "\n",
            "Conjunto de Teste - Relatório de Classificação:\n",
            "              precision    recall  f1-score   support\n",
            "\n",
            "          CB       0.95      0.98      0.97       161\n",
            "          XX       0.99      0.96      0.97       222\n",
            "\n",
            "    accuracy                           0.97       383\n",
            "   macro avg       0.97      0.97      0.97       383\n",
            "weighted avg       0.97      0.97      0.97       383\n",
            "\n",
            "\n",
            "Conjunto de Teste - Matriz de Confusão:\n",
            "[[158   3]\n",
            " [  8 214]]\n",
            "\n",
            "\n"
          ]
        },
        {
          "output_type": "display_data",
          "data": {
            "text/plain": [
              "<Figure size 400x300 with 2 Axes>"
            ],
            "image/png": "[encoded data removed]"
          },
          "metadata": {}
        }
      ],
      "source": [
        "# === SL Perceptron === (32)\n",
        "from sklearn.linear_model import Perceptron\n",
        "model = Perceptron()\n",
        "param_grid = {\n",
        "    'penalty': ['l2', 'elasticnet'],     # Padrão: None\n",
        "    'max_iter': [50, 100, 500, 1000],    # Padrão: 1000\n",
        "    'alpha': [0.0001, 0.001],            # Padrão: 0.0001\n",
        "    'eta0': [0.1, 1.0]                   # Padrão: 1.0\n",
        "}\n",
        "treinar_otimizar_avaliar(model, param_grid, df_dados)"
      ]
    },
    {
      "cell_type": "code",
      "execution_count": 37,
      "metadata": {
        "colab": {
          "base_uri": "https://localhost:8080/",
          "height": 988
        },
        "id": "07uDR8BCupDW",
        "outputId": "284e0517-9f7c-4e93-849d-97fa246ce348"
      },
      "outputs": [
        {
          "output_type": "stream",
          "name": "stdout",
          "text": [
            "\n",
            "Algoritmo:\n",
            "MLPClassifier()\n",
            "\n",
            "Tamanho do Conjunto de Dados : 1914 amostras\n",
            "Tamanho do Conjunto de Treino: 1531 amostras\n",
            "Tamanho do Conjunto de Teste : 383 amostras\n",
            "\n",
            "Conjunto de Treinamento - Resultados da Validação Cruzada (hiperparâmetros padrão):\n",
            "Acurácia: 98.13%\n",
            "\n",
            "Conjunto de Treinamento - Resultados da Validação Cruzada (melhores hiperparâmetros):\n",
            "Acurácia: 98.24%\n",
            "Tempo de execução do ajuste de hiperparâmetros: 0:25:01\n",
            "Quantidade de combinações de hiperparâmetros: 24\n",
            "Melhores hiperparâmetros: {'activation': 'relu', 'alpha': 0.001, 'hidden_layer_sizes': (25,), 'max_iter': 300, 'solver': 'adam'}\n",
            "\n",
            "Conjunto de Teste - Resultados de Predições (melhores hiperparâmetros):\n",
            "Acurácia: 98.69%\n",
            "Precisão: 98.79%\n",
            "Recall  : 98.53%\n",
            "F1-score: 98.66%\n",
            "\n",
            "Conjunto de Teste - Relatório de Classificação:\n",
            "              precision    recall  f1-score   support\n",
            "\n",
            "          CB       0.99      0.98      0.98       161\n",
            "          XX       0.98      1.00      0.99       222\n",
            "\n",
            "    accuracy                           0.99       383\n",
            "   macro avg       0.99      0.99      0.99       383\n",
            "weighted avg       0.99      0.99      0.99       383\n",
            "\n",
            "\n",
            "Conjunto de Teste - Matriz de Confusão:\n",
            "[[157   4]\n",
            " [  1 221]]\n",
            "\n",
            "\n"
          ]
        },
        {
          "output_type": "display_data",
          "data": {
            "text/plain": [
              "<Figure size 400x300 with 2 Axes>"
            ],
            "image/png": "[encoded data removed]"
          },
          "metadata": {}
        }
      ],
      "source": [
        "# === ML Perceptron === (24)\n",
        "from sklearn.neural_network import MLPClassifier\n",
        "model = MLPClassifier()\n",
        "param_grid = {\n",
        "    'hidden_layer_sizes': [(25,), (100,)],         # Padrão: (100,)\n",
        "    'activation': ['relu', 'tanh', 'logistic'],    # Padrão: 'relu'\n",
        "    'solver': ['adam'],                            # Padrão: 'adam'\n",
        "    'max_iter': [200, 300],                        # Padrão: 200\n",
        "    'alpha': [0.0001, 0.001]                       # Padrão: 0.0001\n",
        "}\n",
        "treinar_otimizar_avaliar(model, param_grid, df_dados)"
      ]
    }
  ],
  "metadata": {
    "colab": {
      "provenance": []
    },
    "kernelspec": {
      "display_name": "Python 3",
      "name": "python3"
    },
    "language_info": {
      "name": "python"
    }
  },
  "nbformat": 4,
  "nbformat_minor": 0
}
