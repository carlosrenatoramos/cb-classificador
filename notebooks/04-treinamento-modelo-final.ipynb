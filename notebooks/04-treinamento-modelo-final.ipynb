{
  "nbformat": 4,
  "nbformat_minor": 0,
  "metadata": {
    "colab": {
      "provenance": []
    },
    "kernelspec": {
      "name": "python3",
      "display_name": "Python 3"
    },
    "language_info": {
      "name": "python"
    }
  },
  "cells": [
    {
      "cell_type": "markdown",
      "source": [
        "# **Colab**"
      ],
      "metadata": {
        "id": "wc3eTjQE0H-b"
      }
    },
    {
      "cell_type": "code",
      "source": [
        "# === 1. Montagem do Google Drive e definição dos caminhos ===\n",
        "from google.colab import drive\n",
        "drive.mount('/content/drive')\n",
        "arquivo_codificado = '/content/drive/My Drive/Colab/cb-classificador/data/dados_codificados.csv'\n",
        "arquivo_modelo = '/content/drive/My Drive/Colab/cb-classificador/data/mlpclassifier_model.pkl'"
      ],
      "metadata": {
        "id": "BUVM46voKiJx",
        "colab": {
          "base_uri": "https://localhost:8080/"
        },
        "outputId": "a35c9b6d-3371-4797-bb6e-3da23f7777b4"
      },
      "execution_count": null,
      "outputs": [
        {
          "output_type": "stream",
          "name": "stdout",
          "text": [
            "Mounted at /content/drive\n"
          ]
        }
      ]
    },
    {
      "cell_type": "code",
      "source": [
        "# === 2. Importação de bibliotecas ===\n",
        "import joblib\n",
        "import pandas as pd\n",
        "from sklearn.neural_network import MLPClassifier"
      ],
      "metadata": {
        "id": "vD4a0iO1gNM1"
      },
      "execution_count": null,
      "outputs": []
    },
    {
      "cell_type": "code",
      "source": [
        "# === 3. Leitura do arquivo de entrada ===\n",
        "df_codificado = pd.read_csv(arquivo_codificado)"
      ],
      "metadata": {
        "id": "1G6yI_ILfwPh"
      },
      "execution_count": null,
      "outputs": []
    },
    {
      "cell_type": "code",
      "source": [
        "# === 4. Separação das variáveis preditoras (X) e alvo (y) ===\n",
        "X = df_codificado.drop(columns=['categoria'])\n",
        "y = df_codificado['categoria']"
      ],
      "metadata": {
        "id": "bh_qqzxAOPuO"
      },
      "execution_count": null,
      "outputs": []
    },
    {
      "cell_type": "code",
      "source": [
        "len(df_codificado)"
      ],
      "metadata": {
        "colab": {
          "base_uri": "https://localhost:8080/"
        },
        "id": "bV-z5nhA7wtv",
        "outputId": "9d10d8d1-f641-4ea6-9aeb-3c54ee540120"
      },
      "execution_count": null,
      "outputs": [
        {
          "output_type": "execute_result",
          "data": {
            "text/plain": [
              "1914"
            ]
          },
          "metadata": {},
          "execution_count": 4
        }
      ]
    },
    {
      "cell_type": "code",
      "source": [
        "len(df_codificado.columns)"
      ],
      "metadata": {
        "colab": {
          "base_uri": "https://localhost:8080/"
        },
        "id": "nz5KCWQI8UKI",
        "outputId": "9b86a4ee-f66b-463a-9bc8-cb4bb4d240f7"
      },
      "execution_count": null,
      "outputs": [
        {
          "output_type": "execute_result",
          "data": {
            "text/plain": [
              "186"
            ]
          },
          "metadata": {},
          "execution_count": 5
        }
      ]
    },
    {
      "cell_type": "code",
      "source": [
        "df_codificado['categoria'].value_counts()"
      ],
      "metadata": {
        "colab": {
          "base_uri": "https://localhost:8080/",
          "height": 179
        },
        "id": "Gumkrd7z8OIQ",
        "outputId": "8bb7b5cd-9e59-4921-9d31-f45cce1ac176"
      },
      "execution_count": null,
      "outputs": [
        {
          "output_type": "execute_result",
          "data": {
            "text/plain": [
              "categoria\n",
              "XX    1110\n",
              "CB     804\n",
              "Name: count, dtype: int64"
            ],
            "text/html": [
              "<div>\n",
              "<style scoped>\n",
              "    .dataframe tbody tr th:only-of-type {\n",
              "        vertical-align: middle;\n",
              "    }\n",
              "\n",
              "    .dataframe tbody tr th {\n",
              "        vertical-align: top;\n",
              "    }\n",
              "\n",
              "    .dataframe thead th {\n",
              "        text-align: right;\n",
              "    }\n",
              "</style>\n",
              "<table border=\"1\" class=\"dataframe\">\n",
              "  <thead>\n",
              "    <tr style=\"text-align: right;\">\n",
              "      <th></th>\n",
              "      <th>count</th>\n",
              "    </tr>\n",
              "    <tr>\n",
              "      <th>categoria</th>\n",
              "      <th></th>\n",
              "    </tr>\n",
              "  </thead>\n",
              "  <tbody>\n",
              "    <tr>\n",
              "      <th>XX</th>\n",
              "      <td>1110</td>\n",
              "    </tr>\n",
              "    <tr>\n",
              "      <th>CB</th>\n",
              "      <td>804</td>\n",
              "    </tr>\n",
              "  </tbody>\n",
              "</table>\n",
              "</div><br><label><b>dtype:</b> int64</label>"
            ]
          },
          "metadata": {},
          "execution_count": 10
        }
      ]
    },
    {
      "cell_type": "code",
      "source": [
        "# === 5. Treinamento do modelo final com 100% dos dados ===\n",
        "model = MLPClassifier(\n",
        "    hidden_layer_sizes=(25,),\n",
        "    activation='relu',\n",
        "    solver='adam',\n",
        "    alpha=0.001,\n",
        "    max_iter=300,\n",
        "    random_state=42\n",
        ")\n",
        "model.fit(X, y)"
      ],
      "metadata": {
        "id": "DRR5k5kb6rLA",
        "colab": {
          "base_uri": "https://localhost:8080/"
        },
        "outputId": "598c483d-e382-4b78-a2d9-634c4b62adf5"
      },
      "execution_count": null,
      "outputs": [
        {
          "output_type": "execute_result",
          "data": {
            "text/plain": [
              "['/content/drive/My Drive/Colab/cb-classificador/data/mlpclassifier_model.pkl']"
            ]
          },
          "metadata": {},
          "execution_count": 6
        }
      ]
    },
    {
      "cell_type": "code",
      "source": [
        "# === 6. Armazenar modelo final ===\n",
        "joblib.dump(model, arquivo_modelo) # Armazenar o modelo final para uso no protótipo"
      ],
      "metadata": {
        "id": "STMYNsMROqId"
      },
      "execution_count": null,
      "outputs": []
    }
  ]
}
