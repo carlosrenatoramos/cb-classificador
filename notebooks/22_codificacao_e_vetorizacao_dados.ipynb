{
  "nbformat": 4,
  "nbformat_minor": 0,
  "metadata": {
    "colab": {
      "provenance": []
    },
    "kernelspec": {
      "name": "python3",
      "display_name": "Python 3"
    },
    "language_info": {
      "name": "python"
    }
  },
  "cells": [
    {
      "cell_type": "markdown",
      "source": [
        "# **Colab**"
      ],
      "metadata": {
        "id": "wc3eTjQE0H-b"
      }
    },
    {
      "cell_type": "code",
      "source": [
        "# === 1. Montagem do Google Drive e definição dos caminhos ===\n",
        "from google.colab import drive\n",
        "drive.mount('/content/drive')\n",
        "caminho_base = '/content/drive/My Drive/Colab/cb-classificador/data/'\n",
        "arquivo_tratado     = caminho_base + 'dados_tratados.csv'\n",
        "arquivo_codificado  = caminho_base + 'dados_codificados.csv'\n",
        "arquivo_vocabulario = caminho_base + 'dados_vocabulario.csv'\n",
        "arquivo_encoder     = caminho_base + 'onehot_encoder.pkl'\n",
        "arquivo_vectorizer  = caminho_base + 'tfidf_vectorizer.pkl'"
      ],
      "metadata": {
        "colab": {
          "base_uri": "https://localhost:8080/"
        },
        "id": "NqZz8b1TGveK",
        "outputId": "0b216f43-a07e-4b4d-ff38-5853236090bc"
      },
      "execution_count": 1,
      "outputs": [
        {
          "output_type": "stream",
          "name": "stdout",
          "text": [
            "Mounted at /content/drive\n"
          ]
        }
      ]
    },
    {
      "cell_type": "code",
      "source": [
        "# === 2. Importação de bibliotecas ===\n",
        "import pandas as pd\n",
        "import joblib\n",
        "from sklearn.preprocessing import OneHotEncoder\n",
        "from sklearn.feature_extraction.text import TfidfVectorizer"
      ],
      "metadata": {
        "id": "Z-WkxcCZrZJ0",
        "collapsed": true
      },
      "execution_count": 2,
      "outputs": []
    },
    {
      "cell_type": "code",
      "source": [
        "# === 3. Função para codificar variáveis categóricas ===\n",
        "def codificar_variaveis_categoricas(df, colunas_categoricas, caminho_encoder):\n",
        "    encoder = OneHotEncoder(handle_unknown='ignore')\n",
        "    X_categorico = encoder.fit_transform(df[colunas_categoricas])\n",
        "    joblib.dump(encoder, caminho_encoder) # Armazenar o encoder para uso no protótipo\n",
        "    return X_categorico, encoder"
      ],
      "metadata": {
        "id": "SHqRWZBYo6nX"
      },
      "execution_count": 3,
      "outputs": []
    },
    {
      "cell_type": "code",
      "source": [
        "# === 4. Função para vetorizar variável textual ===\n",
        "def vetorizar_texto(df, coluna_texto, caminho_vectorizer, caminho_vocabulario, min_df=10):\n",
        "    vectorizer = TfidfVectorizer(min_df=min_df)\n",
        "    X_texto = vectorizer.fit_transform(df[coluna_texto])\n",
        "    joblib.dump(vectorizer, caminho_vectorizer) # Armazenar o vectorizer para uso no protótipo\n",
        "    df_vocab = pd.DataFrame(vectorizer.get_feature_names_out(), columns=['Termo'])\n",
        "    df_vocab.to_csv(caminho_vocabulario, index=False) # Armazenar o vocabulário\n",
        "    return X_texto"
      ],
      "metadata": {
        "id": "MLgL37UkqBoi"
      },
      "execution_count": 4,
      "outputs": []
    },
    {
      "cell_type": "code",
      "source": [
        "# === 5. Função para codificar, vetorizar e preparar dados ===\n",
        "def codificar_vetorizar_dados(df, colunas_categoricas, coluna_texto, caminho_encoder, caminho_vectorizer, caminho_vocabulario):\n",
        "    X_categorico, encoder = codificar_variaveis_categoricas(df, colunas_categoricas, caminho_encoder)\n",
        "    df[coluna_texto] = df['des_anp'].fillna('') + ' | ' + df['des_produto'].fillna('')\n",
        "    X_texto = vetorizar_texto(df, coluna_texto, caminho_vectorizer, caminho_vocabulario)\n",
        "    X = pd.concat([\n",
        "        pd.DataFrame(X_categorico.toarray(), columns=encoder.get_feature_names_out(colunas_categoricas)),\n",
        "        pd.DataFrame(X_texto.toarray())\n",
        "    ], axis=1)\n",
        "    X.columns = X.columns.astype(str)\n",
        "    y = df['categoria']\n",
        "    return X, y"
      ],
      "metadata": {
        "id": "YS9yh7bVHR8t"
      },
      "execution_count": 5,
      "outputs": []
    },
    {
      "cell_type": "code",
      "source": [
        "# === 6. Leitura dos dados ===\n",
        "df = pd.read_csv(arquivo_tratado)"
      ],
      "metadata": {
        "id": "uJ1iGfEfMu8T",
        "collapsed": true
      },
      "execution_count": 6,
      "outputs": []
    },
    {
      "cell_type": "code",
      "source": [
        "# === 7. Verificação do balanceamento das classes da variável alvo ===\n",
        "total = df['categoria'].count()\n",
        "print(f\"Percentual CB: {df['categoria'].value_counts().get('CB', 0)/total*100:.2f}%\")\n",
        "print(f\"Percentual XX: {df['categoria'].value_counts().get('XX', 0)/total*100:.2f}%\")"
      ],
      "metadata": {
        "colab": {
          "base_uri": "https://localhost:8080/"
        },
        "id": "pKr5mBDc30oW",
        "outputId": "7970d522-943e-4b07-dd84-d9cf0a280475"
      },
      "execution_count": 7,
      "outputs": [
        {
          "output_type": "stream",
          "name": "stdout",
          "text": [
            "Percentual CB: 42.01%\n",
            "Percentual XX: 57.99%\n"
          ]
        }
      ]
    },
    {
      "cell_type": "code",
      "source": [
        "len(df)"
      ],
      "metadata": {
        "colab": {
          "base_uri": "https://localhost:8080/"
        },
        "id": "gCE2awQT6cIO",
        "outputId": "05ec3be0-721d-4859-91c6-f26a8a208cdd"
      },
      "execution_count": 8,
      "outputs": [
        {
          "output_type": "execute_result",
          "data": {
            "text/plain": [
              "1914"
            ]
          },
          "metadata": {},
          "execution_count": 8
        }
      ]
    },
    {
      "cell_type": "code",
      "source": [
        "df['categoria'].value_counts()"
      ],
      "metadata": {
        "colab": {
          "base_uri": "https://localhost:8080/",
          "height": 178
        },
        "id": "7ypoJuAqMxEH",
        "outputId": "62fb85a8-4cdc-4564-d688-429f649e0556"
      },
      "execution_count": 9,
      "outputs": [
        {
          "output_type": "execute_result",
          "data": {
            "text/plain": [
              "categoria\n",
              "XX    1110\n",
              "CB     804\n",
              "Name: count, dtype: int64"
            ],
            "text/html": [
              "<div>\n",
              "<style scoped>\n",
              "    .dataframe tbody tr th:only-of-type {\n",
              "        vertical-align: middle;\n",
              "    }\n",
              "\n",
              "    .dataframe tbody tr th {\n",
              "        vertical-align: top;\n",
              "    }\n",
              "\n",
              "    .dataframe thead th {\n",
              "        text-align: right;\n",
              "    }\n",
              "</style>\n",
              "<table border=\"1\" class=\"dataframe\">\n",
              "  <thead>\n",
              "    <tr style=\"text-align: right;\">\n",
              "      <th></th>\n",
              "      <th>count</th>\n",
              "    </tr>\n",
              "    <tr>\n",
              "      <th>categoria</th>\n",
              "      <th></th>\n",
              "    </tr>\n",
              "  </thead>\n",
              "  <tbody>\n",
              "    <tr>\n",
              "      <th>XX</th>\n",
              "      <td>1110</td>\n",
              "    </tr>\n",
              "    <tr>\n",
              "      <th>CB</th>\n",
              "      <td>804</td>\n",
              "    </tr>\n",
              "  </tbody>\n",
              "</table>\n",
              "</div><br><label><b>dtype:</b> int64</label>"
            ]
          },
          "metadata": {},
          "execution_count": 9
        }
      ]
    },
    {
      "cell_type": "code",
      "source": [
        "# === 8. Aplicação do pipeline de codificação e vetorização ===\n",
        "X, y = codificar_vetorizar_dados(\n",
        "    df=df,\n",
        "    colunas_categoricas=['cod_ncm', 'cod_anp', 'cod_unidade'],\n",
        "    coluna_texto='txt_descricao',\n",
        "    caminho_encoder=arquivo_encoder,\n",
        "    caminho_vectorizer=arquivo_vectorizer,\n",
        "    caminho_vocabulario=arquivo_vocabulario\n",
        ")"
      ],
      "metadata": {
        "id": "XWkesStGHte0"
      },
      "execution_count": 10,
      "outputs": []
    },
    {
      "cell_type": "code",
      "source": [
        "# === 9. Armazenar arquivo codificado ===\n",
        "df_codificado = pd.concat([X, y], axis=1)\n",
        "df_codificado.to_csv(arquivo_codificado, index=False)"
      ],
      "metadata": {
        "id": "PCNk5lUxCRGg",
        "collapsed": true
      },
      "execution_count": 11,
      "outputs": []
    },
    {
      "cell_type": "code",
      "source": [
        "len(df_codificado)"
      ],
      "metadata": {
        "colab": {
          "base_uri": "https://localhost:8080/"
        },
        "id": "z5TpQBd0veDw",
        "outputId": "197e5df6-c588-4bec-ff30-b7b91e895fbd"
      },
      "execution_count": 12,
      "outputs": [
        {
          "output_type": "execute_result",
          "data": {
            "text/plain": [
              "1914"
            ]
          },
          "metadata": {},
          "execution_count": 12
        }
      ]
    },
    {
      "cell_type": "code",
      "source": [
        "len(df_codificado.columns)"
      ],
      "metadata": {
        "colab": {
          "base_uri": "https://localhost:8080/"
        },
        "id": "9xgwQZrAV5mC",
        "outputId": "91a0d879-ccc7-4471-bfd1-2e9769016da2"
      },
      "execution_count": 13,
      "outputs": [
        {
          "output_type": "execute_result",
          "data": {
            "text/plain": [
              "186"
            ]
          },
          "metadata": {},
          "execution_count": 13
        }
      ]
    }
  ]
}